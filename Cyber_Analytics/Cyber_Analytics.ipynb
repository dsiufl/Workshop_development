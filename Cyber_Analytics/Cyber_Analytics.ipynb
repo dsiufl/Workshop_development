{
 "cells": [
  {
   "cell_type": "markdown",
   "metadata": {},
   "source": [
    "# Cyber Analytics in Python"
   ]
  },
  {
   "cell_type": "markdown",
   "metadata": {},
   "source": [
    "Please make sure you signed in and filled out a waiver form. \n"
   ]
  },
  {
   "cell_type": "markdown",
   "metadata": {},
   "source": [
    "### Introduction\n",
    "Cyber threat analysis is the process of recognizing and monitoring vulnerabilities in a system and analysing thier trends in order to come up with solutions to prevent and comnbat them. With increasing cyber threats in today's society, intelligence analysts are in high demand.\n",
    "\n",
    "This workshop will cover the basics of integrating cyber security tools such as nmap and BeautifulSoup into python to automate scans. We will be doing all testing on the web server hackthissite.org. "
   ]
  },
  {
   "cell_type": "markdown",
   "metadata": {},
   "source": [
    "## Modules\n",
    "These are the modules we will be using"
   ]
  },
  {
   "cell_type": "code",
   "execution_count": 48,
   "metadata": {},
   "outputs": [],
   "source": [
    "%matplotlib inline\n",
    "\n",
    "import nmap       # Network monitoring and packet analysis\n",
    "import sys        # Used to handle exceptions\n",
    "import socket     # Basis of most cyber-security python libraries. \n",
    "import pandas as pd     # Data analysis\n",
    "import seaborn as sns\n",
    "import matplotlib.pyplot as plt\n",
    "\n"
   ]
  },
  {
   "cell_type": "markdown",
   "metadata": {},
   "source": [
    "## Nmap (In Development)\n",
    "Nmap is a network packet monitoring tool that collects packets in order to find out information about the system that is sending and recievng them.\n",
    "\n",
    "### Setup\n",
    "To use nmap we will have to do some quick setup. \n",
    "\n",
    "Windows: Press windows button and then type <code>Anaconda Prompt</code>. From there type <code>pip install python-nmap</code>. \n",
    "\n",
    "Mac: Open terminal and type <code>pip install python-nmap</code>\n",
    "\n",
    "\n",
    "#### Necessary Information\n",
    "- Host Address\n",
    "- Port Ranges\n"
   ]
  },
  {
   "cell_type": "code",
   "execution_count": 2,
   "metadata": {},
   "outputs": [
    {
     "name": "stdout",
     "output_type": "stream",
     "text": [
      "Target IP: 198.148.81.139\n"
     ]
    }
   ],
   "source": [
    "hostaddress = 'hackthissite.org' # The website we are hacking\n",
    "ipaddress = socket.gethostbyname(hostaddress)\n",
    "print('Target IP: '+ipaddress)"
   ]
  },
  {
   "cell_type": "markdown",
   "metadata": {},
   "source": [
    "#### Scanning"
   ]
  },
  {
   "cell_type": "code",
   "execution_count": 8,
   "metadata": {},
   "outputs": [
    {
     "data": {
      "text/plain": [
       "{'nmap': {'command_line': 'nmap -oX - -p 0-1024 -sV hackthissite.org',\n",
       "  'scaninfo': {'error': [\"Strange read error from 198.148.81.136 (49 - 'Can't assign requested address')\\n\"],\n",
       "   'tcp': {'method': 'connect', 'services': '0-1024'}},\n",
       "  'scanstats': {'downhosts': '0',\n",
       "   'elapsed': '172.90',\n",
       "   'timestr': 'Wed Sep 12 22:29:57 2018',\n",
       "   'totalhosts': '1',\n",
       "   'uphosts': '1'}},\n",
       " 'scan': {'198.148.81.136': {'addresses': {'ipv4': '198.148.81.136'},\n",
       "   'hostnames': [{'name': 'hackthissite.org', 'type': 'user'},\n",
       "    {'name': 'hackthissite.org', 'type': 'PTR'}],\n",
       "   'status': {'reason': 'syn-ack', 'state': 'up'},\n",
       "   'tcp': {22: {'conf': '10',\n",
       "     'cpe': 'cpe:/o:freebsd:freebsd',\n",
       "     'extrainfo': 'FreeBSD 20110102; protocol 2.0',\n",
       "     'name': 'ssh',\n",
       "     'product': 'OpenSSH',\n",
       "     'reason': 'syn-ack',\n",
       "     'state': 'open',\n",
       "     'version': '5.8p1_hpn13v10'},\n",
       "    80: {'conf': '10',\n",
       "     'cpe': 'cpe:/a:igor_sysoev:nginx',\n",
       "     'extrainfo': '',\n",
       "     'name': 'http',\n",
       "     'product': 'nginx',\n",
       "     'reason': 'syn-ack',\n",
       "     'state': 'open',\n",
       "     'version': ''},\n",
       "    110: {'conf': '3',\n",
       "     'cpe': '',\n",
       "     'extrainfo': '',\n",
       "     'name': 'pop3',\n",
       "     'product': '',\n",
       "     'reason': 'syn-ack',\n",
       "     'state': 'open',\n",
       "     'version': ''},\n",
       "    143: {'conf': '3',\n",
       "     'cpe': '',\n",
       "     'extrainfo': '',\n",
       "     'name': 'imap',\n",
       "     'product': '',\n",
       "     'reason': 'syn-ack',\n",
       "     'state': 'open',\n",
       "     'version': ''},\n",
       "    443: {'conf': '10',\n",
       "     'cpe': 'cpe:/a:igor_sysoev:nginx',\n",
       "     'extrainfo': '',\n",
       "     'name': 'http',\n",
       "     'product': 'nginx',\n",
       "     'reason': 'syn-ack',\n",
       "     'state': 'open',\n",
       "     'version': ''},\n",
       "    993: {'conf': '3',\n",
       "     'cpe': '',\n",
       "     'extrainfo': '',\n",
       "     'name': 'imaps',\n",
       "     'product': '',\n",
       "     'reason': 'syn-ack',\n",
       "     'state': 'open',\n",
       "     'version': ''},\n",
       "    995: {'conf': '3',\n",
       "     'cpe': '',\n",
       "     'extrainfo': '',\n",
       "     'name': 'pop3s',\n",
       "     'product': '',\n",
       "     'reason': 'syn-ack',\n",
       "     'state': 'open',\n",
       "     'version': ''}},\n",
       "   'vendor': {}}}}"
      ]
     },
     "execution_count": 8,
     "metadata": {},
     "output_type": "execute_result"
    }
   ],
   "source": [
    "ports = '0-1024'\n",
    "nm = nmap.PortScanner()\n",
    "nm.scan(hostaddress,ports)"
   ]
  },
  {
   "cell_type": "markdown",
   "metadata": {},
   "source": [
    "Printing the results"
   ]
  },
  {
   "cell_type": "code",
   "execution_count": 4,
   "metadata": {},
   "outputs": [
    {
     "name": "stdout",
     "output_type": "stream",
     "text": [
      "Host: 198.148.81.138(hackthissite.org)\n",
      "State: up\n",
      "Protocol: tcp\n",
      "Port: 22\t State: open\n",
      "Port: 80\t State: open\n"
     ]
    }
   ],
   "source": [
    "for host in nm.all_hosts():\n",
    "    print('Host: ' + host + \"(\" + hostaddress + \")\")\n",
    "    print(\"State: \" + nm[host].state())\n",
    "    for protocol in nm[host].all_protocols():\n",
    "        print(\"Protocol: \" + protocol)\n",
    "        port = nm[host][protocol].keys()\n",
    "        for p in port:\n",
    "            print(\"Port: \" + str(p) + \"\\t State: \" + nm[host][protocol][p]['state'])\n",
    "    "
   ]
  },
  {
   "cell_type": "markdown",
   "metadata": {},
   "source": [
    "## AWS Honeypott Data\n",
    "\n",
    "Now lets look at some data. Honeypotts in cybrsecurity are dummy vulnerable machines that are used to monitor and study hackers. Hackers from all overthe world hack these machines and the data collected from these attacks is then studied by white hats (good guys) in order to protect against these attacks. \n",
    "\n",
    "Lets look at how we can use this data to our advantage"
   ]
  },
  {
   "cell_type": "code",
   "execution_count": 3,
   "metadata": {},
   "outputs": [
    {
     "data": {
      "text/html": [
       "<div>\n",
       "<style scoped>\n",
       "    .dataframe tbody tr th:only-of-type {\n",
       "        vertical-align: middle;\n",
       "    }\n",
       "\n",
       "    .dataframe tbody tr th {\n",
       "        vertical-align: top;\n",
       "    }\n",
       "\n",
       "    .dataframe thead th {\n",
       "        text-align: right;\n",
       "    }\n",
       "</style>\n",
       "<table border=\"1\" class=\"dataframe\">\n",
       "  <thead>\n",
       "    <tr style=\"text-align: right;\">\n",
       "      <th></th>\n",
       "      <th>datetime</th>\n",
       "      <th>host</th>\n",
       "      <th>src</th>\n",
       "      <th>proto</th>\n",
       "      <th>type</th>\n",
       "      <th>spt</th>\n",
       "      <th>dpt</th>\n",
       "      <th>srcstr</th>\n",
       "      <th>cc</th>\n",
       "      <th>country</th>\n",
       "      <th>locale</th>\n",
       "      <th>localeabbr</th>\n",
       "      <th>postalcode</th>\n",
       "      <th>latitude</th>\n",
       "      <th>longitude</th>\n",
       "      <th>Unnamed: 15</th>\n",
       "    </tr>\n",
       "  </thead>\n",
       "  <tbody>\n",
       "    <tr>\n",
       "      <th>0</th>\n",
       "      <td>3/3/13 21:53</td>\n",
       "      <td>groucho-oregon</td>\n",
       "      <td>1032051418</td>\n",
       "      <td>TCP</td>\n",
       "      <td>NaN</td>\n",
       "      <td>6000.0</td>\n",
       "      <td>1433.0</td>\n",
       "      <td>61.131.218.218</td>\n",
       "      <td>CN</td>\n",
       "      <td>China</td>\n",
       "      <td>Jiangxi Sheng</td>\n",
       "      <td>36</td>\n",
       "      <td>NaN</td>\n",
       "      <td>28.5500</td>\n",
       "      <td>115.9333</td>\n",
       "      <td>NaN</td>\n",
       "    </tr>\n",
       "    <tr>\n",
       "      <th>1</th>\n",
       "      <td>3/3/13 21:57</td>\n",
       "      <td>groucho-oregon</td>\n",
       "      <td>1347834426</td>\n",
       "      <td>UDP</td>\n",
       "      <td>NaN</td>\n",
       "      <td>5270.0</td>\n",
       "      <td>5060.0</td>\n",
       "      <td>80.86.82.58</td>\n",
       "      <td>DE</td>\n",
       "      <td>Germany</td>\n",
       "      <td>NaN</td>\n",
       "      <td>NaN</td>\n",
       "      <td>NaN</td>\n",
       "      <td>51.0000</td>\n",
       "      <td>9.0000</td>\n",
       "      <td>NaN</td>\n",
       "    </tr>\n",
       "    <tr>\n",
       "      <th>2</th>\n",
       "      <td>3/3/13 21:58</td>\n",
       "      <td>groucho-oregon</td>\n",
       "      <td>2947856490</td>\n",
       "      <td>TCP</td>\n",
       "      <td>NaN</td>\n",
       "      <td>2489.0</td>\n",
       "      <td>1080.0</td>\n",
       "      <td>175.180.184.106</td>\n",
       "      <td>TW</td>\n",
       "      <td>Taiwan</td>\n",
       "      <td>Taipei</td>\n",
       "      <td>NaN</td>\n",
       "      <td>NaN</td>\n",
       "      <td>25.0392</td>\n",
       "      <td>121.5250</td>\n",
       "      <td>NaN</td>\n",
       "    </tr>\n",
       "    <tr>\n",
       "      <th>3</th>\n",
       "      <td>3/3/13 21:58</td>\n",
       "      <td>groucho-us-east</td>\n",
       "      <td>841842716</td>\n",
       "      <td>UDP</td>\n",
       "      <td>NaN</td>\n",
       "      <td>43235.0</td>\n",
       "      <td>1900.0</td>\n",
       "      <td>50.45.128.28</td>\n",
       "      <td>US</td>\n",
       "      <td>United States</td>\n",
       "      <td>Oregon</td>\n",
       "      <td>OR</td>\n",
       "      <td>97124</td>\n",
       "      <td>45.5848</td>\n",
       "      <td>-122.9117</td>\n",
       "      <td>NaN</td>\n",
       "    </tr>\n",
       "    <tr>\n",
       "      <th>4</th>\n",
       "      <td>3/3/13 21:58</td>\n",
       "      <td>groucho-singapore</td>\n",
       "      <td>3587648279</td>\n",
       "      <td>TCP</td>\n",
       "      <td>NaN</td>\n",
       "      <td>56577.0</td>\n",
       "      <td>80.0</td>\n",
       "      <td>213.215.43.23</td>\n",
       "      <td>FR</td>\n",
       "      <td>France</td>\n",
       "      <td>NaN</td>\n",
       "      <td>NaN</td>\n",
       "      <td>NaN</td>\n",
       "      <td>48.8600</td>\n",
       "      <td>2.3500</td>\n",
       "      <td>NaN</td>\n",
       "    </tr>\n",
       "  </tbody>\n",
       "</table>\n",
       "</div>"
      ],
      "text/plain": [
       "       datetime               host         src proto  type      spt     dpt  \\\n",
       "0  3/3/13 21:53     groucho-oregon  1032051418   TCP   NaN   6000.0  1433.0   \n",
       "1  3/3/13 21:57     groucho-oregon  1347834426   UDP   NaN   5270.0  5060.0   \n",
       "2  3/3/13 21:58     groucho-oregon  2947856490   TCP   NaN   2489.0  1080.0   \n",
       "3  3/3/13 21:58    groucho-us-east   841842716   UDP   NaN  43235.0  1900.0   \n",
       "4  3/3/13 21:58  groucho-singapore  3587648279   TCP   NaN  56577.0    80.0   \n",
       "\n",
       "            srcstr  cc        country         locale localeabbr postalcode  \\\n",
       "0   61.131.218.218  CN          China  Jiangxi Sheng         36        NaN   \n",
       "1      80.86.82.58  DE        Germany            NaN        NaN        NaN   \n",
       "2  175.180.184.106  TW         Taiwan         Taipei        NaN        NaN   \n",
       "3     50.45.128.28  US  United States         Oregon         OR      97124   \n",
       "4    213.215.43.23  FR         France            NaN        NaN        NaN   \n",
       "\n",
       "   latitude  longitude  Unnamed: 15  \n",
       "0   28.5500   115.9333          NaN  \n",
       "1   51.0000     9.0000          NaN  \n",
       "2   25.0392   121.5250          NaN  \n",
       "3   45.5848  -122.9117          NaN  \n",
       "4   48.8600     2.3500          NaN  "
      ]
     },
     "execution_count": 3,
     "metadata": {},
     "output_type": "execute_result"
    }
   ],
   "source": [
    "attacks = pd.read_csv(\"awshoneypot_data.csv\")\n",
    "attacks.head()"
   ]
  },
  {
   "cell_type": "code",
   "execution_count": 42,
   "metadata": {},
   "outputs": [
    {
     "data": {
      "image/png": "[encoded data removed]",
      "text/plain": [
       "<matplotlib.figure.Figure at 0x108939320>"
      ]
     },
     "metadata": {},
     "output_type": "display_data"
    }
   ],
   "source": [
    "sns.set(style = 'darkgrid')\n",
    "f, ax = plt.subplots(figsize=(15, 9))\n",
    "sns.despine(f, left=True, bottom=True)\n",
    "countplt = sns.countplot(x = 'proto', data = attacks)"
   ]
  },
  {
   "cell_type": "code",
   "execution_count": 5,
   "metadata": {},
   "outputs": [
    {
     "data": {
      "text/html": [
       "<div>\n",
       "<style scoped>\n",
       "    .dataframe tbody tr th:only-of-type {\n",
       "        vertical-align: middle;\n",
       "    }\n",
       "\n",
       "    .dataframe tbody tr th {\n",
       "        vertical-align: top;\n",
       "    }\n",
       "\n",
       "    .dataframe thead th {\n",
       "        text-align: right;\n",
       "    }\n",
       "</style>\n",
       "<table border=\"1\" class=\"dataframe\">\n",
       "  <thead>\n",
       "    <tr style=\"text-align: right;\">\n",
       "      <th></th>\n",
       "      <th>datetime</th>\n",
       "      <th>host</th>\n",
       "      <th>src</th>\n",
       "      <th>proto</th>\n",
       "      <th>type</th>\n",
       "      <th>spt</th>\n",
       "      <th>dpt</th>\n",
       "      <th>srcstr</th>\n",
       "      <th>cc</th>\n",
       "      <th>country</th>\n",
       "      <th>locale</th>\n",
       "      <th>localeabbr</th>\n",
       "      <th>postalcode</th>\n",
       "      <th>latitude</th>\n",
       "      <th>longitude</th>\n",
       "      <th>Unnamed: 15</th>\n",
       "    </tr>\n",
       "  </thead>\n",
       "  <tbody>\n",
       "    <tr>\n",
       "      <th>0</th>\n",
       "      <td>3/3/13 21:53</td>\n",
       "      <td>groucho-oregon</td>\n",
       "      <td>1032051418</td>\n",
       "      <td>TCP</td>\n",
       "      <td>NaN</td>\n",
       "      <td>6000.0</td>\n",
       "      <td>1433.0</td>\n",
       "      <td>61.131.218.218</td>\n",
       "      <td>CN</td>\n",
       "      <td>China</td>\n",
       "      <td>Jiangxi Sheng</td>\n",
       "      <td>36</td>\n",
       "      <td>NaN</td>\n",
       "      <td>28.5500</td>\n",
       "      <td>115.9333</td>\n",
       "      <td>NaN</td>\n",
       "    </tr>\n",
       "    <tr>\n",
       "      <th>1</th>\n",
       "      <td>3/3/13 21:57</td>\n",
       "      <td>groucho-oregon</td>\n",
       "      <td>1347834426</td>\n",
       "      <td>UDP</td>\n",
       "      <td>NaN</td>\n",
       "      <td>5270.0</td>\n",
       "      <td>5060.0</td>\n",
       "      <td>80.86.82.58</td>\n",
       "      <td>DE</td>\n",
       "      <td>Germany</td>\n",
       "      <td>NaN</td>\n",
       "      <td>NaN</td>\n",
       "      <td>NaN</td>\n",
       "      <td>51.0000</td>\n",
       "      <td>9.0000</td>\n",
       "      <td>NaN</td>\n",
       "    </tr>\n",
       "    <tr>\n",
       "      <th>2</th>\n",
       "      <td>3/3/13 21:58</td>\n",
       "      <td>groucho-oregon</td>\n",
       "      <td>2947856490</td>\n",
       "      <td>TCP</td>\n",
       "      <td>NaN</td>\n",
       "      <td>2489.0</td>\n",
       "      <td>1080.0</td>\n",
       "      <td>175.180.184.106</td>\n",
       "      <td>TW</td>\n",
       "      <td>Taiwan</td>\n",
       "      <td>Taipei</td>\n",
       "      <td>NaN</td>\n",
       "      <td>NaN</td>\n",
       "      <td>25.0392</td>\n",
       "      <td>121.5250</td>\n",
       "      <td>NaN</td>\n",
       "    </tr>\n",
       "    <tr>\n",
       "      <th>3</th>\n",
       "      <td>3/3/13 21:58</td>\n",
       "      <td>groucho-us-east</td>\n",
       "      <td>841842716</td>\n",
       "      <td>UDP</td>\n",
       "      <td>NaN</td>\n",
       "      <td>43235.0</td>\n",
       "      <td>1900.0</td>\n",
       "      <td>50.45.128.28</td>\n",
       "      <td>US</td>\n",
       "      <td>United States</td>\n",
       "      <td>Oregon</td>\n",
       "      <td>OR</td>\n",
       "      <td>97124</td>\n",
       "      <td>45.5848</td>\n",
       "      <td>-122.9117</td>\n",
       "      <td>NaN</td>\n",
       "    </tr>\n",
       "    <tr>\n",
       "      <th>4</th>\n",
       "      <td>3/3/13 21:58</td>\n",
       "      <td>groucho-singapore</td>\n",
       "      <td>3587648279</td>\n",
       "      <td>TCP</td>\n",
       "      <td>NaN</td>\n",
       "      <td>56577.0</td>\n",
       "      <td>80.0</td>\n",
       "      <td>213.215.43.23</td>\n",
       "      <td>FR</td>\n",
       "      <td>France</td>\n",
       "      <td>NaN</td>\n",
       "      <td>NaN</td>\n",
       "      <td>NaN</td>\n",
       "      <td>48.8600</td>\n",
       "      <td>2.3500</td>\n",
       "      <td>NaN</td>\n",
       "    </tr>\n",
       "  </tbody>\n",
       "</table>\n",
       "</div>"
      ],
      "text/plain": [
       "       datetime               host         src proto  type      spt     dpt  \\\n",
       "0  3/3/13 21:53     groucho-oregon  1032051418   TCP   NaN   6000.0  1433.0   \n",
       "1  3/3/13 21:57     groucho-oregon  1347834426   UDP   NaN   5270.0  5060.0   \n",
       "2  3/3/13 21:58     groucho-oregon  2947856490   TCP   NaN   2489.0  1080.0   \n",
       "3  3/3/13 21:58    groucho-us-east   841842716   UDP   NaN  43235.0  1900.0   \n",
       "4  3/3/13 21:58  groucho-singapore  3587648279   TCP   NaN  56577.0    80.0   \n",
       "\n",
       "            srcstr  cc        country         locale localeabbr postalcode  \\\n",
       "0   61.131.218.218  CN          China  Jiangxi Sheng         36        NaN   \n",
       "1      80.86.82.58  DE        Germany            NaN        NaN        NaN   \n",
       "2  175.180.184.106  TW         Taiwan         Taipei        NaN        NaN   \n",
       "3     50.45.128.28  US  United States         Oregon         OR      97124   \n",
       "4    213.215.43.23  FR         France            NaN        NaN        NaN   \n",
       "\n",
       "   latitude  longitude  Unnamed: 15  \n",
       "0   28.5500   115.9333          NaN  \n",
       "1   51.0000     9.0000          NaN  \n",
       "2   25.0392   121.5250          NaN  \n",
       "3   45.5848  -122.9117          NaN  \n",
       "4   48.8600     2.3500          NaN  "
      ]
     },
     "execution_count": 5,
     "metadata": {},
     "output_type": "execute_result"
    }
   ],
   "source": [
    "# creating new column in dataframe\n",
    "#attacks['count'] = attacks.groupby('country')['country'].transform(pd.Series.value_counts) \n",
    "attacks['country'].unique()\n",
    "# attacks['freq'] = attacks.groupby('country')['country'].transform('count')\n",
    "# attacks.drop(columns = 'freq')\n",
    "attacks.head()"
   ]
  },
  {
   "cell_type": "code",
   "execution_count": 33,
   "metadata": {},
   "outputs": [
    {
     "data": {
      "image/png": "[encoded data removed]",
      "text/plain": [
       "<matplotlib.figure.Figure at 0x108fcbb70>"
      ]
     },
     "metadata": {},
     "output_type": "display_data"
    }
   ],
   "source": [
    "f, ax = plt.subplots(figsize=(12, 9))\n",
    "sns.despine(f, left=True, bottom=True)\n",
    "scatplt = sns.countplot(x = 'host', data = attacks)"
   ]
  },
  {
   "cell_type": "code",
   "execution_count": 46,
   "metadata": {},
   "outputs": [
    {
     "ename": "AttributeError",
     "evalue": "module 'seaborn' has no attribute 'scatterplot'",
     "output_type": "error",
     "traceback": [
      "\u001b[0;31m---------------------------------------------------------------------------\u001b[0m",
      "\u001b[0;31mAttributeError\u001b[0m                            Traceback (most recent call last)",
      "\u001b[0;32m<ipython-input-46-124cc36ef811>\u001b[0m in \u001b[0;36m<module>\u001b[0;34m()\u001b[0m\n\u001b[0;32m----> 1\u001b[0;31m \u001b[0msns\u001b[0m\u001b[0;34m.\u001b[0m\u001b[0mscatterplot\u001b[0m\u001b[0;34m(\u001b[0m\u001b[0;34m)\u001b[0m\u001b[0;34m\u001b[0m\u001b[0m\n\u001b[0m",
      "\u001b[0;31mAttributeError\u001b[0m: module 'seaborn' has no attribute 'scatterplot'"
     ]
    }
   ],
   "source": []
  },
  {
   "cell_type": "code",
   "execution_count": 50,
   "metadata": {},
   "outputs": [
    {
     "ename": "AttributeError",
     "evalue": "module 'seaborn' has no attribute 'scatterplot'",
     "output_type": "error",
     "traceback": [
      "\u001b[0;31m---------------------------------------------------------------------------\u001b[0m",
      "\u001b[0;31mAttributeError\u001b[0m                            Traceback (most recent call last)",
      "\u001b[0;32m<ipython-input-50-f9ae4d6fae94>\u001b[0m in \u001b[0;36m<module>\u001b[0;34m()\u001b[0m\n\u001b[0;32m----> 1\u001b[0;31m \u001b[0mscatplt\u001b[0m \u001b[0;34m=\u001b[0m \u001b[0msns\u001b[0m\u001b[0;34m.\u001b[0m\u001b[0mscatterplot\u001b[0m\u001b[0;34m(\u001b[0m\u001b[0mx\u001b[0m \u001b[0;34m=\u001b[0m \u001b[0;34m'latitude'\u001b[0m\u001b[0;34m,\u001b[0m \u001b[0my\u001b[0m \u001b[0;34m=\u001b[0m \u001b[0;34m'longitude'\u001b[0m\u001b[0;34m,\u001b[0m \u001b[0mdata\u001b[0m \u001b[0;34m=\u001b[0m \u001b[0mattacks\u001b[0m\u001b[0;34m)\u001b[0m\u001b[0;34m\u001b[0m\u001b[0m\n\u001b[0m",
      "\u001b[0;31mAttributeError\u001b[0m: module 'seaborn' has no attribute 'scatterplot'"
     ]
    }
   ],
   "source": [
    "scatplt = sns.scatterplot(x = 'latitude', y = 'longitude', data = attacks)"
   ]
  },
  {
   "cell_type": "code",
   "execution_count": null,
   "metadata": {},
   "outputs": [],
   "source": []
  }
 ],
 "metadata": {
  "kernelspec": {
   "display_name": "Python 3",
   "language": "python",
   "name": "python3"
  },
  "language_info": {
   "codemirror_mode": {
    "name": "ipython",
    "version": 3
   },
   "file_extension": ".py",
   "mimetype": "text/x-python",
   "name": "python",
   "nbconvert_exporter": "python",
   "pygments_lexer": "ipython3",
   "version": "3.6.4"
  }
 },
 "nbformat": 4,
 "nbformat_minor": 2
}
