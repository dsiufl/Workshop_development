{
 "cells": [
  {
   "cell_type": "markdown",
   "metadata": {},
   "source": [
    "# Cyber Analytics in Python"
   ]
  },
  {
   "cell_type": "markdown",
   "metadata": {},
   "source": [
    "Please make sure you signed in and filled out a waiver form. \n"
   ]
  },
  {
   "cell_type": "markdown",
   "metadata": {},
   "source": [
    "### Introduction\n",
    "Cyber threat analysis is the process of recognizing and monitoring vulnerabilities in a system and analysing thier trends in order to come up with solutions to prevent and comnbat them. With increasing cyber threats in today's society, intelligence analysts are in high demand.\n",
    "\n",
    "This workshop will cover the basics of integrating cyber security tools such as nmap and BeautifulSoup into python to automate scans. We will be doing all testing on the web server hackthissite.org. "
   ]
  },
  {
   "cell_type": "markdown",
   "metadata": {},
   "source": [
    "## Modules\n",
    "These are the modules we will be using"
   ]
  },
  {
   "cell_type": "code",
   "execution_count": 1,
   "metadata": {},
   "outputs": [],
   "source": [
    "import nmap       # Network monitoring and packet analysis\n",
    "import sys        # Used to handle exceptions\n",
    "import socket     # Basis of most cyber-security python libraries. \n",
    "import pandas     # Data analysis"
   ]
  },
  {
   "cell_type": "markdown",
   "metadata": {},
   "source": [
    "## Nmap\n",
    "Nmap is a network packet monitoring tool that collects packets in order to find out information about the system that is sending and recievng them.\n",
    "\n",
    "### Setup\n",
    "To use nmap we will have to do some quick setup. \n",
    "\n",
    "Windows: Press windows button and then type <code>Anaconda Prompt</code>. From there type <code>pip install python-nmap</code>. \n",
    "\n",
    "Mac: Open terminal and type <code>pip install python-nmap</code>\n",
    "\n",
    "\n",
    "#### Necessary Information\n",
    "- Host Address\n",
    "- Port Ranges\n"
   ]
  },
  {
   "cell_type": "code",
   "execution_count": 2,
   "metadata": {},
   "outputs": [
    {
     "name": "stdout",
     "output_type": "stream",
     "text": [
      "Target IP: 198.148.81.139\n"
     ]
    }
   ],
   "source": [
    "hostaddress = 'hackthissite.org' # The website we are hacking\n",
    "ipaddress = socket.gethostbyname(hostaddress)\n",
    "print('Target IP: '+ipaddress)"
   ]
  },
  {
   "cell_type": "markdown",
   "metadata": {},
   "source": [
    "#### Scanning"
   ]
  },
  {
   "cell_type": "code",
   "execution_count": 8,
   "metadata": {},
   "outputs": [
    {
     "data": {
      "text/plain": [
       "{'nmap': {'command_line': 'nmap -oX - -p 0-1024 -sV hackthissite.org',\n",
       "  'scaninfo': {'error': [\"Strange read error from 198.148.81.136 (49 - 'Can't assign requested address')\\n\"],\n",
       "   'tcp': {'method': 'connect', 'services': '0-1024'}},\n",
       "  'scanstats': {'downhosts': '0',\n",
       "   'elapsed': '172.90',\n",
       "   'timestr': 'Wed Sep 12 22:29:57 2018',\n",
       "   'totalhosts': '1',\n",
       "   'uphosts': '1'}},\n",
       " 'scan': {'198.148.81.136': {'addresses': {'ipv4': '198.148.81.136'},\n",
       "   'hostnames': [{'name': 'hackthissite.org', 'type': 'user'},\n",
       "    {'name': 'hackthissite.org', 'type': 'PTR'}],\n",
       "   'status': {'reason': 'syn-ack', 'state': 'up'},\n",
       "   'tcp': {22: {'conf': '10',\n",
       "     'cpe': 'cpe:/o:freebsd:freebsd',\n",
       "     'extrainfo': 'FreeBSD 20110102; protocol 2.0',\n",
       "     'name': 'ssh',\n",
       "     'product': 'OpenSSH',\n",
       "     'reason': 'syn-ack',\n",
       "     'state': 'open',\n",
       "     'version': '5.8p1_hpn13v10'},\n",
       "    80: {'conf': '10',\n",
       "     'cpe': 'cpe:/a:igor_sysoev:nginx',\n",
       "     'extrainfo': '',\n",
       "     'name': 'http',\n",
       "     'product': 'nginx',\n",
       "     'reason': 'syn-ack',\n",
       "     'state': 'open',\n",
       "     'version': ''},\n",
       "    110: {'conf': '3',\n",
       "     'cpe': '',\n",
       "     'extrainfo': '',\n",
       "     'name': 'pop3',\n",
       "     'product': '',\n",
       "     'reason': 'syn-ack',\n",
       "     'state': 'open',\n",
       "     'version': ''},\n",
       "    143: {'conf': '3',\n",
       "     'cpe': '',\n",
       "     'extrainfo': '',\n",
       "     'name': 'imap',\n",
       "     'product': '',\n",
       "     'reason': 'syn-ack',\n",
       "     'state': 'open',\n",
       "     'version': ''},\n",
       "    443: {'conf': '10',\n",
       "     'cpe': 'cpe:/a:igor_sysoev:nginx',\n",
       "     'extrainfo': '',\n",
       "     'name': 'http',\n",
       "     'product': 'nginx',\n",
       "     'reason': 'syn-ack',\n",
       "     'state': 'open',\n",
       "     'version': ''},\n",
       "    993: {'conf': '3',\n",
       "     'cpe': '',\n",
       "     'extrainfo': '',\n",
       "     'name': 'imaps',\n",
       "     'product': '',\n",
       "     'reason': 'syn-ack',\n",
       "     'state': 'open',\n",
       "     'version': ''},\n",
       "    995: {'conf': '3',\n",
       "     'cpe': '',\n",
       "     'extrainfo': '',\n",
       "     'name': 'pop3s',\n",
       "     'product': '',\n",
       "     'reason': 'syn-ack',\n",
       "     'state': 'open',\n",
       "     'version': ''}},\n",
       "   'vendor': {}}}}"
      ]
     },
     "execution_count": 8,
     "metadata": {},
     "output_type": "execute_result"
    }
   ],
   "source": [
    "ports = '0-1024'\n",
    "nm = nmap.PortScanner()\n",
    "nm.scan(hostaddress,ports)"
   ]
  },
  {
   "cell_type": "markdown",
   "metadata": {},
   "source": [
    "Printing the results"
   ]
  },
  {
   "cell_type": "code",
   "execution_count": 4,
   "metadata": {},
   "outputs": [
    {
     "name": "stdout",
     "output_type": "stream",
     "text": [
      "Host: 198.148.81.138(hackthissite.org)\n",
      "State: up\n",
      "Protocol: tcp\n",
      "Port: 22\t State: open\n",
      "Port: 80\t State: open\n"
     ]
    }
   ],
   "source": [
    "for host in nm.all_hosts():\n",
    "    print('Host: ' + host + \"(\" + hostaddress + \")\")\n",
    "    print(\"State: \" + nm[host].state())\n",
    "    for protocol in nm[host].all_protocols():\n",
    "        print(\"Protocol: \" + protocol)\n",
    "        port = nm[host][protocol].keys()\n",
    "        for p in port:\n",
    "            print(\"Port: \" + str(p) + \"\\t State: \" + nm[host][protocol][p]['state'])\n",
    "    "
   ]
  },
  {
   "cell_type": "code",
   "execution_count": null,
   "metadata": {},
   "outputs": [],
   "source": []
  }
 ],
 "metadata": {
  "kernelspec": {
   "display_name": "Python 3",
   "language": "python",
   "name": "python3"
  },
  "language_info": {
   "codemirror_mode": {
    "name": "ipython",
    "version": 3
   },
   "file_extension": ".py",
   "mimetype": "text/x-python",
   "name": "python",
   "nbconvert_exporter": "python",
   "pygments_lexer": "ipython3",
   "version": "3.6.4"
  }
 },
 "nbformat": 4,
 "nbformat_minor": 2
}
